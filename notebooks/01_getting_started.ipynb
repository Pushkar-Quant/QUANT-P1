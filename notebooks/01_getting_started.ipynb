{
 "cells": [
  {
   "cell_type": "markdown",
   "metadata": {},
   "source": [
    "# Getting Started with Adaptive Liquidity Provision Engine\n",
    "\n",
    "This notebook demonstrates the basic usage of the market making framework.\n",
    "\n",
    "## Topics Covered:\n",
    "1. Market simulation basics\n",
    "2. Order book dynamics\n",
    "3. Running baseline strategies\n",
    "4. Evaluating performance"
   ]
  },
  {
   "cell_type": "code",
   "execution_count": null,
   "metadata": {},
   "outputs": [],
   "source": [
    "import sys\n",
    "sys.path.append('..')\n",
    "\n",
    "import numpy as np\n",
    "import pandas as pd\n",
    "import matplotlib.pyplot as plt\n",
    "import seaborn as sns\n",
    "\n",
    "from src.simulation.market_simulator import MarketSimulator, SimulationConfig\n",
    "from src.simulation.order_book import Order, OrderType, OrderSide\n",
    "from src.environments.market_making_env import MarketMakingEnv, MarketMakingConfig\n",
    "from src.agents.baseline_agents import StaticSpreadAgent, AvellanedaStoikovAgent\n",
    "from src.evaluation.backtester import Backtester\n",
    "\n",
    "# Set style\n",
    "sns.set_style('whitegrid')\n",
    "plt.rcParams['figure.figsize'] = (12, 6)\n",
    "\n",
    "print(\"✓ Imports successful!\")"
   ]
  },
  {
   "cell_type": "markdown",
   "metadata": {},
   "source": [
    "## 1. Market Simulation Basics\n",
    "\n",
    "Let's start by creating a simple market simulator and observing its behavior."
   ]
  },
  {
   "cell_type": "code",
   "execution_count": null,
   "metadata": {},
   "outputs": [],
   "source": [
    "# Create simulator\n",
    "config = SimulationConfig(\n",
    "    initial_midprice=100.0,\n",
    "    initial_spread=0.02,\n",
    "    tick_size=0.01,\n",
    "    seed=42\n",
    ")\n",
    "\n",
    "sim = MarketSimulator(config)\n",
    "\n",
    "# Run simulation\n",
    "print(\"Running simulation for 100 seconds...\")\n",
    "stats = sim.run_simulation(duration=100.0, time_step=1.0)\n",
    "\n",
    "print(\"\\nSimulation Statistics:\")\n",
    "for key, value in stats.items():\n",
    "    if key != 'final_state':\n",
    "        print(f\"  {key}: {value}\")"
   ]
  },
  {
   "cell_type": "markdown",
   "metadata": {},
   "source": [
    "### Visualize Market State Evolution"
   ]
  },
  {
   "cell_type": "code",
   "execution_count": null,
   "metadata": {},
   "outputs": [],
   "source": [
    "# Extract time series\n",
    "states = sim.get_state_history()\n",
    "timestamps = [s.timestamp for s in states]\n",
    "midprices = [s.midprice for s in states]\n",
    "spreads = [s.spread for s in states]\n",
    "imbalances = [s.imbalance for s in states]\n",
    "volatilities = [s.volatility for s in states]\n",
    "\n",
    "# Plot\n",
    "fig, axes = plt.subplots(2, 2, figsize=(15, 10))\n",
    "\n",
    "axes[0, 0].plot(timestamps, midprices, linewidth=2, color='#2E86AB')\n",
    "axes[0, 0].set_title('Midprice Evolution', fontsize=14, fontweight='bold')\n",
    "axes[0, 0].set_xlabel('Time (s)')\n",
    "axes[0, 0].set_ylabel('Price ($)')\n",
    "axes[0, 0].grid(alpha=0.3)\n",
    "\n",
    "axes[0, 1].plot(timestamps, spreads, linewidth=2, color='#A23B72')\n",
    "axes[0, 1].set_title('Bid-Ask Spread', fontsize=14, fontweight='bold')\n",
    "axes[0, 1].set_xlabel('Time (s)')\n",
    "axes[0, 1].set_ylabel('Spread ($)')\n",
    "axes[0, 1].grid(alpha=0.3)\n",
    "\n",
    "axes[1, 0].plot(timestamps, imbalances, linewidth=2, color='#06D6A0')\n",
    "axes[1, 0].axhline(y=0, color='gray', linestyle='--', alpha=0.5)\n",
    "axes[1, 0].set_title('Order Book Imbalance', fontsize=14, fontweight='bold')\n",
    "axes[1, 0].set_xlabel('Time (s)')\n",
    "axes[1, 0].set_ylabel('Imbalance')\n",
    "axes[1, 0].grid(alpha=0.3)\n",
    "\n",
    "axes[1, 1].plot(timestamps, volatilities, linewidth=2, color='#F18F01')\n",
    "axes[1, 1].set_title('Volatility Regime', fontsize=14, fontweight='bold')\n",
    "axes[1, 1].set_xlabel('Time (s)')\n",
    "axes[1, 1].set_ylabel('Volatility')\n",
    "axes[1, 1].grid(alpha=0.3)\n",
    "\n",
    "plt.tight_layout()\n",
    "plt.show()\n",
    "\n",
    "print(f\"\\n📊 Average Midprice: ${np.mean(midprices):.2f}\")\n",
    "print(f\"📊 Average Spread: ${np.mean(spreads):.4f}\")\n",
    "print(f\"📊 Average Volatility: {np.mean(volatilities):.4f}\")"
   ]
  },
  {
   "cell_type": "markdown",
   "metadata": {},
   "source": [
    "## 2. Order Book Visualization\n",
    "\n",
    "Let's examine the current state of the order book."
   ]
  },
  {
   "cell_type": "code",
   "execution_count": null,
   "metadata": {},
   "outputs": [],
   "source": [
    "# Get order book snapshot\n",
    "book_state = sim.lob.get_state_snapshot()\n",
    "\n",
    "print(\"Order Book State:\")\n",
    "print(f\"  Best Bid: ${book_state['best_bid']:.2f}\")\n",
    "print(f\"  Best Ask: ${book_state['best_ask']:.2f}\")\n",
    "print(f\"  Midprice: ${book_state['midprice']:.2f}\")\n",
    "print(f\"  Spread: ${book_state['spread']:.4f}\")\n",
    "print(f\"  Imbalance: {book_state['imbalance']:.3f}\")\n",
    "print(f\"  Total Volume: {book_state['total_volume']:,}\")\n",
    "print(f\"  Total Trades: {book_state['total_trades']:,}\")\n",
    "\n",
    "# Visualize depth\n",
    "depth = book_state['depth']\n",
    "\n",
    "fig, ax = plt.subplots(figsize=(12, 6))\n",
    "\n",
    "if depth['bids']:\n",
    "    bid_prices, bid_sizes = zip(*depth['bids'])\n",
    "    ax.barh(bid_prices, bid_sizes, color='#06D6A0', alpha=0.7, label='Bids')\n",
    "\n",
    "if depth['asks']:\n",
    "    ask_prices, ask_sizes = zip(*depth['asks'])\n",
    "    ax.barh(ask_prices, [-s for s in ask_sizes], color='#EF476F', alpha=0.7, label='Asks')\n",
    "\n",
    "ax.axhline(y=book_state['midprice'], color='black', linestyle='--', linewidth=2, label='Midprice')\n",
    "ax.set_xlabel('Size (negative = ask side)', fontsize=12)\n",
    "ax.set_ylabel('Price ($)', fontsize=12)\n",
    "ax.set_title('Order Book Depth (L2)', fontsize=14, fontweight='bold')\n",
    "ax.legend()\n",
    "ax.grid(alpha=0.3)\n",
    "\n",
    "plt.tight_layout()\n",
    "plt.show()"
   ]
  },
  {
   "cell_type": "markdown",
   "metadata": {},
   "source": [
    "## 3. Running Baseline Strategies\n",
    "\n",
    "Now let's test some baseline market making strategies."
   ]
  },
  {
   "cell_type": "code",
   "execution_count": null,
   "metadata": {},
   "outputs": [],
   "source": [
    "# Create environment\n",
    "env_config = MarketMakingConfig(\n",
    "    episode_duration=100.0,\n",
    "    time_step=1.0\n",
    ")\n",
    "env = MarketMakingEnv(env_config)\n",
    "\n",
    "# Create backtester\n",
    "backtester = Backtester(env, verbose=True)\n",
    "\n",
    "# Test agents\n",
    "agents = [\n",
    "    (StaticSpreadAgent(spread_ticks=2, quote_size=100), \"Static Spread\"),\n",
    "    (AvellanedaStoikovAgent(quote_size=100), \"Avellaneda-Stoikov\")\n",
    "]\n",
    "\n",
    "print(\"\\n\" + \"=\"*80)\n",
    "print(\"TESTING BASELINE STRATEGIES\")\n",
    "print(\"=\"*80)\n",
    "\n",
    "results = backtester.compare_agents(agents, num_episodes=5)"
   ]
  },
  {
   "cell_type": "markdown",
   "metadata": {},
   "source": [
    "### Visualize Results"
   ]
  },
  {
   "cell_type": "code",
   "execution_count": null,
   "metadata": {},
   "outputs": [],
   "source": [
    "# Plot P&L comparison\n",
    "fig, axes = plt.subplots(1, 2, figsize=(16, 6))\n",
    "\n",
    "for name, result in results.items():\n",
    "    axes[0].plot(result.timestamps, result.pnl_series, label=name, linewidth=2)\n",
    "    axes[1].plot(result.timestamps, result.inventory_series, label=name, linewidth=2)\n",
    "\n",
    "axes[0].set_title('P&L Comparison', fontsize=14, fontweight='bold')\n",
    "axes[0].set_xlabel('Time (s)')\n",
    "axes[0].set_ylabel('P&L ($)')\n",
    "axes[0].legend()\n",
    "axes[0].grid(alpha=0.3)\n",
    "axes[0].axhline(y=0, color='gray', linestyle='--', alpha=0.5)\n",
    "\n",
    "axes[1].set_title('Inventory Comparison', fontsize=14, fontweight='bold')\n",
    "axes[1].set_xlabel('Time (s)')\n",
    "axes[1].set_ylabel('Inventory')\n",
    "axes[1].legend()\n",
    "axes[1].grid(alpha=0.3)\n",
    "axes[1].axhline(y=0, color='gray', linestyle='--', alpha=0.5)\n",
    "\n",
    "plt.tight_layout()\n",
    "plt.show()"
   ]
  },
  {
   "cell_type": "markdown",
   "metadata": {},
   "source": [
    "### Performance Metrics Table"
   ]
  },
  {
   "cell_type": "code",
   "execution_count": null,
   "metadata": {},
   "outputs": [],
   "source": [
    "# Create comparison dataframe\n",
    "metrics_data = []\n",
    "for name, result in results.items():\n",
    "    metrics_data.append({\n",
    "        'Agent': name,\n",
    "        'Total P&L': f\"${result.metrics.total_pnl:.2f}\",\n",
    "        'Sharpe Ratio': f\"{result.metrics.sharpe_ratio:.3f}\",\n",
    "        'Max Drawdown': f\"{result.metrics.max_drawdown:.2%}\",\n",
    "        'Win Rate': f\"{result.metrics.win_rate:.2%}\",\n",
    "        'Avg |Inventory|': f\"{result.metrics.mean_abs_inventory:.1f}\",\n",
    "        'Profit Factor': f\"{result.metrics.profit_factor:.2f}\"\n",
    "    })\n",
    "\n",
    "df_metrics = pd.DataFrame(metrics_data)\n",
    "display(df_metrics)"
   ]
  },
  {
   "cell_type": "markdown",
   "metadata": {},
   "source": [
    "## 4. Single Episode Deep Dive\n",
    "\n",
    "Let's examine a single episode in detail."
   ]
  },
  {
   "cell_type": "code",
   "execution_count": null,
   "metadata": {},
   "outputs": [],
   "source": [
    "# Run single episode\n",
    "agent = AvellanedaStoikovAgent()\n",
    "episode_data = backtester.run_episode(agent)\n",
    "\n",
    "# Extract data\n",
    "infos = episode_data['infos']\n",
    "rewards = episode_data['rewards']\n",
    "actions = episode_data['actions']\n",
    "\n",
    "# Plot detailed view\n",
    "fig, axes = plt.subplots(3, 1, figsize=(14, 12), sharex=True)\n",
    "\n",
    "# Rewards\n",
    "axes[0].plot(rewards, linewidth=2, color='#2E86AB')\n",
    "axes[0].set_title('Step Rewards', fontsize=14, fontweight='bold')\n",
    "axes[0].set_ylabel('Reward')\n",
    "axes[0].axhline(y=0, color='gray', linestyle='--', alpha=0.5)\n",
    "axes[0].grid(alpha=0.3)\n",
    "\n",
    "# P&L\n",
    "pnls = [info['pnl'] for info in infos]\n",
    "axes[1].plot(pnls, linewidth=2, color='#06D6A0')\n",
    "axes[1].set_title('Cumulative P&L', fontsize=14, fontweight='bold')\n",
    "axes[1].set_ylabel('P&L ($)')\n",
    "axes[1].grid(alpha=0.3)\n",
    "\n",
    "# Inventory\n",
    "inventories = [info['inventory'] for info in infos]\n",
    "axes[2].plot(inventories, linewidth=2, color='#A23B72')\n",
    "axes[2].fill_between(range(len(inventories)), inventories, alpha=0.3)\n",
    "axes[2].set_title('Inventory Position', fontsize=14, fontweight='bold')\n",
    "axes[2].set_xlabel('Step')\n",
    "axes[2].set_ylabel('Inventory')\n",
    "axes[2].axhline(y=0, color='gray', linestyle='--', alpha=0.5)\n",
    "axes[2].grid(alpha=0.3)\n",
    "\n",
    "plt.tight_layout()\n",
    "plt.show()\n",
    "\n",
    "print(f\"\\n📊 Episode Summary:\")\n",
    "print(f\"   Total Reward: {sum(rewards):.2f}\")\n",
    "print(f\"   Final P&L: ${episode_data['final_pnl']:.2f}\")\n",
    "print(f\"   Final Inventory: {episode_data['final_inventory']}\")\n",
    "print(f\"   Steps: {episode_data['num_steps']}\")"
   ]
  },
  {
   "cell_type": "markdown",
   "metadata": {},
   "source": [
    "## Next Steps\n",
    "\n",
    "- **Notebook 2**: Training RL agents with PPO\n",
    "- **Notebook 3**: Advanced market impact analysis\n",
    "- **Notebook 4**: Portfolio of market makers\n",
    "\n",
    "---\n",
    "\n",
    "For more information, see the [documentation](../docs/)."
   ]
  }
 ],
 "metadata": {
  "kernelspec": {
   "display_name": "Python 3",
   "language": "python",
   "name": "python3"
  },
  "language_info": {
   "codemirror_mode": {
    "name": "ipython",
    "version": 3
   },
   "file_extension": ".py",
   "mimetype": "text/x-python",
   "name": "python",
   "nbconvert_exporter": "python",
   "pygments_lexer": "ipython3",
   "version": "3.9.0"
  }
 },
 "nbformat": 4,
 "nbformat_minor": 4
}
